{
 "cells": [
  {
   "cell_type": "code",
   "execution_count": 46,
   "id": "02945197",
   "metadata": {},
   "outputs": [],
   "source": [
    "import pandas as pd"
   ]
  },
  {
   "cell_type": "code",
   "execution_count": 47,
   "id": "f7bf2610",
   "metadata": {},
   "outputs": [],
   "source": [
    "df = pd.read_csv(\"listings.csv\")"
   ]
  },
  {
   "cell_type": "code",
   "execution_count": 48,
   "id": "6c73b6e9",
   "metadata": {},
   "outputs": [
    {
     "data": {
      "text/plain": [
       "description                        9\n",
       "neighborhood_overview            670\n",
       "host_name                         39\n",
       "host_since                        39\n",
       "host_location                    270\n",
       "host_about                       509\n",
       "host_response_time               137\n",
       "host_response_rate               137\n",
       "host_acceptance_rate             121\n",
       "host_is_superhost                136\n",
       "host_thumbnail_url                39\n",
       "host_picture_url                  39\n",
       "host_neighbourhood                76\n",
       "host_listings_count               39\n",
       "host_total_listings_count         39\n",
       "host_verifications                39\n",
       "host_has_profile_pic              39\n",
       "host_identity_verified            39\n",
       "neighbourhood                    670\n",
       "neighbourhood_group_cleansed    1375\n",
       "bathrooms                        238\n",
       "bathrooms_text                     1\n",
       "bedrooms                          76\n",
       "beds                             240\n",
       "price                            245\n",
       "minimum_minimum_nights             1\n",
       "maximum_minimum_nights             1\n",
       "minimum_maximum_nights             1\n",
       "maximum_maximum_nights             1\n",
       "calendar_updated                1375\n",
       "has_availability                  21\n",
       "estimated_revenue_l365d          245\n",
       "first_review                     336\n",
       "last_review                      336\n",
       "review_scores_rating             336\n",
       "review_scores_accuracy           336\n",
       "review_scores_cleanliness        336\n",
       "review_scores_checkin            336\n",
       "review_scores_communication      336\n",
       "review_scores_location           336\n",
       "review_scores_value              336\n",
       "license                          891\n",
       "reviews_per_month                336\n",
       "dtype: int64"
      ]
     },
     "execution_count": 48,
     "metadata": {},
     "output_type": "execute_result"
    }
   ],
   "source": [
    "df.isnull().sum()[df.isnull().sum() > 0]\n"
   ]
  },
  {
   "cell_type": "code",
   "execution_count": 49,
   "id": "f22ca59e",
   "metadata": {},
   "outputs": [
    {
     "data": {
      "text/plain": [
       "id                                                0\n",
       "listing_url                                       0\n",
       "scrape_id                                         0\n",
       "last_scraped                                      0\n",
       "source                                            0\n",
       "                                               ... \n",
       "calculated_host_listings_count                    0\n",
       "calculated_host_listings_count_entire_homes       0\n",
       "calculated_host_listings_count_private_rooms      0\n",
       "calculated_host_listings_count_shared_rooms       0\n",
       "reviews_per_month                               336\n",
       "Length: 79, dtype: int64"
      ]
     },
     "execution_count": 49,
     "metadata": {},
     "output_type": "execute_result"
    }
   ],
   "source": [
    "valores_nulos=df.isnull().sum()\n",
    "valores_nulos"
   ]
  },
  {
   "cell_type": "code",
   "execution_count": 50,
   "id": "9a28e767",
   "metadata": {},
   "outputs": [],
   "source": [
    "df2=df.copy()"
   ]
  },
  {
   "cell_type": "markdown",
   "id": "17ceb746",
   "metadata": {},
   "source": [
    "Rellenamos con la media porque representa bien la tendencia general de reseñas mensuales"
   ]
  },
  {
   "cell_type": "code",
   "execution_count": 51,
   "id": "42ed6a90",
   "metadata": {},
   "outputs": [],
   "source": [
    "df2[\"reviews_per_month\"]=df2[\"reviews_per_month\"].fillna(round(df2[\"reviews_per_month\"].mean(),1))"
   ]
  },
  {
   "cell_type": "code",
   "execution_count": 52,
   "id": "c9e63303",
   "metadata": {},
   "outputs": [
    {
     "data": {
      "text/plain": [
       "id                                              0\n",
       "listing_url                                     0\n",
       "scrape_id                                       0\n",
       "last_scraped                                    0\n",
       "source                                          0\n",
       "                                               ..\n",
       "calculated_host_listings_count                  0\n",
       "calculated_host_listings_count_entire_homes     0\n",
       "calculated_host_listings_count_private_rooms    0\n",
       "calculated_host_listings_count_shared_rooms     0\n",
       "reviews_per_month                               0\n",
       "Length: 79, dtype: int64"
      ]
     },
     "execution_count": 52,
     "metadata": {},
     "output_type": "execute_result"
    }
   ],
   "source": [
    "valores_nulos=df2.isnull().sum()\n",
    "valores_nulos"
   ]
  },
  {
   "cell_type": "markdown",
   "id": "65adefdb",
   "metadata": {},
   "source": [
    "Rellenamos con \"N/A\" porque es texto y no tiene sentido hacer promedio y no nos podemos inverntar una descripción"
   ]
  },
  {
   "cell_type": "code",
   "execution_count": 53,
   "id": "07338eb6",
   "metadata": {},
   "outputs": [],
   "source": [
    "df2[\"description\"] =df2[\"description\"].fillna(\"N/A\")"
   ]
  },
  {
   "cell_type": "markdown",
   "id": "fd807ff9",
   "metadata": {},
   "source": [
    "Se relaiza lo mismo, igual rellenamos con \"N/A\" por ser texto descriptivo N/A es utilizado ya que el mismo excel lo utiliza"
   ]
  },
  {
   "cell_type": "code",
   "execution_count": 54,
   "id": "243b9cc9",
   "metadata": {},
   "outputs": [],
   "source": [
    "df2[\"neighborhood_overview\"] =df2[\"neighborhood_overview\"].fillna(\"N/A\")\n"
   ]
  },
  {
   "cell_type": "code",
   "execution_count": 55,
   "id": "25be4c39",
   "metadata": {},
   "outputs": [],
   "source": [
    "#df2[\"host_name\"] =df2[\"host_name\"].fillna(\"N/A\")\n"
   ]
  },
  {
   "cell_type": "code",
   "execution_count": 56,
   "id": "ff360b82",
   "metadata": {},
   "outputs": [],
   "source": [
    "#df2[\"host_since\"] =df2[\"host_since\"].fillna(method=\"bfill\") \n"
   ]
  },
  {
   "cell_type": "markdown",
   "id": "e1c60c48",
   "metadata": {},
   "source": [
    "host_response_time, host_response_rate, host_acceptance_rate: rellenamos con \"N/A\" ya que son datos de texto"
   ]
  },
  {
   "cell_type": "code",
   "execution_count": 57,
   "id": "ce295174",
   "metadata": {},
   "outputs": [],
   "source": [
    "df2[\"host_location\"] =df2[\"host_location\"].fillna(\"N/A\")\n"
   ]
  },
  {
   "cell_type": "code",
   "execution_count": 58,
   "id": "2fb5fcd6",
   "metadata": {},
   "outputs": [],
   "source": [
    "df2[\"host_about\"] =df2[\"host_about\"].fillna(\"N/A\")\n"
   ]
  },
  {
   "cell_type": "code",
   "execution_count": 59,
   "id": "bfa01533",
   "metadata": {},
   "outputs": [],
   "source": [
    "df2[\"host_response_time\"] =df2[\"host_response_time\"].fillna(\"N/A\")"
   ]
  },
  {
   "cell_type": "code",
   "execution_count": 60,
   "id": "3dd22d89",
   "metadata": {},
   "outputs": [],
   "source": [
    "df2[\"host_response_rate\"] =df2[\"host_response_rate\"].fillna(\"N/A\")"
   ]
  },
  {
   "cell_type": "code",
   "execution_count": 61,
   "id": "531bf947",
   "metadata": {},
   "outputs": [],
   "source": [
    "df2[\"host_acceptance_rate\"] =df2[\"host_acceptance_rate\"].fillna(\"N/A\")"
   ]
  },
  {
   "cell_type": "markdown",
   "id": "6b4ea5e9",
   "metadata": {},
   "source": [
    "Utilicé backward fill porque es binario y suele repetirse por anfitrión"
   ]
  },
  {
   "cell_type": "code",
   "execution_count": 62,
   "id": "2da44fb5",
   "metadata": {},
   "outputs": [
    {
     "name": "stderr",
     "output_type": "stream",
     "text": [
      "/var/folders/rn/3d02syds5p99hnhh5p4p92jh0000gn/T/ipykernel_26839/1239376417.py:1: FutureWarning: Series.fillna with 'method' is deprecated and will raise in a future version. Use obj.ffill() or obj.bfill() instead.\n",
      "  df2[\"host_is_superhost\"] =df2[\"host_is_superhost\"].fillna(method=\"bfill\")\n"
     ]
    }
   ],
   "source": [
    "df2[\"host_is_superhost\"] =df2[\"host_is_superhost\"].fillna(method=\"bfill\") "
   ]
  },
  {
   "cell_type": "markdown",
   "id": "fbe98a21",
   "metadata": {},
   "source": [
    "Se rellena con \"N/A\", información textual"
   ]
  },
  {
   "cell_type": "code",
   "execution_count": 63,
   "id": "7f99d330",
   "metadata": {},
   "outputs": [],
   "source": [
    "df2[\"host_neighbourhood\"] =df2[\"host_neighbourhood\"].fillna(\"N/A\")\n"
   ]
  },
  {
   "cell_type": "markdown",
   "id": "71b13502",
   "metadata": {},
   "source": [
    "Rellenamos con la mediana para no afectar por valores extremos"
   ]
  },
  {
   "cell_type": "code",
   "execution_count": 64,
   "id": "83bed051",
   "metadata": {},
   "outputs": [],
   "source": [
    "df2[\"host_listings_count\"]=df2[\"host_listings_count\"].fillna(round(df[\"host_listings_count\"].median(),1))\n"
   ]
  },
  {
   "cell_type": "code",
   "execution_count": 65,
   "id": "bc9e709e",
   "metadata": {},
   "outputs": [],
   "source": [
    "df2[\"host_total_listings_count\"]=df2[\"host_total_listings_count\"].fillna(round(df[\"host_total_listings_count\"].median(),1))"
   ]
  },
  {
   "cell_type": "markdown",
   "id": "e793a499",
   "metadata": {},
   "source": [
    "Se rellena con \"None\" porque es un listado de verificaciones"
   ]
  },
  {
   "cell_type": "code",
   "execution_count": 66,
   "id": "413f8407",
   "metadata": {},
   "outputs": [],
   "source": [
    "df2[\"host_verifications\"] =df2[\"host_verifications\"].fillna(\"None\")"
   ]
  },
  {
   "cell_type": "markdown",
   "id": "00dc6d46",
   "metadata": {},
   "source": [
    "Se rellena con \"N/A\", texto descriptivo de zona"
   ]
  },
  {
   "cell_type": "code",
   "execution_count": 67,
   "id": "36e0c419",
   "metadata": {},
   "outputs": [],
   "source": [
    "df2[\"neighbourhood\"] =df2[\"neighbourhood\"].fillna(\"N/A\")\n"
   ]
  },
  {
   "cell_type": "markdown",
   "id": "9129a670",
   "metadata": {},
   "source": [
    "Se rellenan con 0, ya que representa cantidad y el excel ya cuenta con este resultado"
   ]
  },
  {
   "cell_type": "code",
   "execution_count": 68,
   "id": "4b058379",
   "metadata": {},
   "outputs": [],
   "source": [
    "df2[\"bathrooms\"]= df2[\"bathrooms\"].fillna(0) "
   ]
  },
  {
   "cell_type": "markdown",
   "id": "80d5c2a2",
   "metadata": {},
   "source": [
    "Se rellena con \"0 shared baths\" para mantener consistencia textual y si no hay datos cuenta como 0"
   ]
  },
  {
   "cell_type": "code",
   "execution_count": 69,
   "id": "4e347bc4",
   "metadata": {},
   "outputs": [],
   "source": [
    "df2[\"bathrooms_text\"] =df2[\"bathrooms_text\"].fillna(\"0 shared baths\")"
   ]
  },
  {
   "cell_type": "markdown",
   "id": "5c294f76",
   "metadata": {},
   "source": [
    "Se rellena con la media porque son cantidades y queremos mantener la tendencia general"
   ]
  },
  {
   "cell_type": "code",
   "execution_count": 70,
   "id": "31466352",
   "metadata": {},
   "outputs": [],
   "source": [
    "df2[\"bedrooms\"]=df2[\"bedrooms\"].fillna(round(df2[\"bedrooms\"].mean(),1))\n"
   ]
  },
  {
   "cell_type": "code",
   "execution_count": 71,
   "id": "82d5aa94",
   "metadata": {},
   "outputs": [],
   "source": [
    "df2[\"beds\"]=df2[\"beds\"].fillna(round(df2[\"beds\"].mean(),1))\n"
   ]
  },
  {
   "cell_type": "markdown",
   "id": "1c31a9dc",
   "metadata": {},
   "source": [
    "primero quitamos signos de $ y convertimos a float, luego rellenamos con la media"
   ]
  },
  {
   "cell_type": "code",
   "execution_count": 72,
   "id": "3b75db66",
   "metadata": {},
   "outputs": [
    {
     "name": "stderr",
     "output_type": "stream",
     "text": [
      "<>:1: SyntaxWarning: invalid escape sequence '\\$'\n",
      "<>:1: SyntaxWarning: invalid escape sequence '\\$'\n",
      "/var/folders/rn/3d02syds5p99hnhh5p4p92jh0000gn/T/ipykernel_26839/3033783479.py:1: SyntaxWarning: invalid escape sequence '\\$'\n",
      "  df2[\"price\"] = df2[\"price\"].replace('[\\$,]', '', regex=True)\n"
     ]
    },
    {
     "data": {
      "text/html": [
       "<div>\n",
       "<style scoped>\n",
       "    .dataframe tbody tr th:only-of-type {\n",
       "        vertical-align: middle;\n",
       "    }\n",
       "\n",
       "    .dataframe tbody tr th {\n",
       "        vertical-align: top;\n",
       "    }\n",
       "\n",
       "    .dataframe thead th {\n",
       "        text-align: right;\n",
       "    }\n",
       "</style>\n",
       "<table border=\"1\" class=\"dataframe\">\n",
       "  <thead>\n",
       "    <tr style=\"text-align: right;\">\n",
       "      <th></th>\n",
       "      <th>id</th>\n",
       "      <th>listing_url</th>\n",
       "      <th>scrape_id</th>\n",
       "      <th>last_scraped</th>\n",
       "      <th>source</th>\n",
       "      <th>name</th>\n",
       "      <th>description</th>\n",
       "      <th>neighborhood_overview</th>\n",
       "      <th>picture_url</th>\n",
       "      <th>host_id</th>\n",
       "      <th>...</th>\n",
       "      <th>review_scores_communication</th>\n",
       "      <th>review_scores_location</th>\n",
       "      <th>review_scores_value</th>\n",
       "      <th>license</th>\n",
       "      <th>instant_bookable</th>\n",
       "      <th>calculated_host_listings_count</th>\n",
       "      <th>calculated_host_listings_count_entire_homes</th>\n",
       "      <th>calculated_host_listings_count_private_rooms</th>\n",
       "      <th>calculated_host_listings_count_shared_rooms</th>\n",
       "      <th>reviews_per_month</th>\n",
       "    </tr>\n",
       "  </thead>\n",
       "  <tbody>\n",
       "    <tr>\n",
       "      <th>0</th>\n",
       "      <td>8521</td>\n",
       "      <td>https://www.airbnb.com/rooms/8521</td>\n",
       "      <td>20250625193454</td>\n",
       "      <td>2025-06-26</td>\n",
       "      <td>city scrape</td>\n",
       "      <td>SunsplashedSerenity walk to Harvard &amp; Fresh Pond</td>\n",
       "      <td>An elegant, sun-splashed, 2 bedroom (+2offices...</td>\n",
       "      <td>Huron Village is known for its charm.  We have...</td>\n",
       "      <td>https://a0.muscache.com/pictures/30536/072e0a5...</td>\n",
       "      <td>306681</td>\n",
       "      <td>...</td>\n",
       "      <td>4.92</td>\n",
       "      <td>4.93</td>\n",
       "      <td>4.74</td>\n",
       "      <td>C0121120491</td>\n",
       "      <td>f</td>\n",
       "      <td>2</td>\n",
       "      <td>2</td>\n",
       "      <td>0</td>\n",
       "      <td>0</td>\n",
       "      <td>0.41</td>\n",
       "    </tr>\n",
       "    <tr>\n",
       "      <th>1</th>\n",
       "      <td>11169</td>\n",
       "      <td>https://www.airbnb.com/rooms/11169</td>\n",
       "      <td>20250625193454</td>\n",
       "      <td>2025-06-27</td>\n",
       "      <td>city scrape</td>\n",
       "      <td>Lovely Studio Room: Available for long w/ends</td>\n",
       "      <td>Large sunny room w kitchenette &amp; bath. Foam ma...</td>\n",
       "      <td>The neighborhood is quiet and friendly and our...</td>\n",
       "      <td>https://a0.muscache.com/pictures/miso/Hosting-...</td>\n",
       "      <td>40965</td>\n",
       "      <td>...</td>\n",
       "      <td>4.92</td>\n",
       "      <td>4.79</td>\n",
       "      <td>4.77</td>\n",
       "      <td>NaN</td>\n",
       "      <td>f</td>\n",
       "      <td>3</td>\n",
       "      <td>1</td>\n",
       "      <td>2</td>\n",
       "      <td>0</td>\n",
       "      <td>1.02</td>\n",
       "    </tr>\n",
       "    <tr>\n",
       "      <th>2</th>\n",
       "      <td>19581</td>\n",
       "      <td>https://www.airbnb.com/rooms/19581</td>\n",
       "      <td>20250625193454</td>\n",
       "      <td>2025-06-26</td>\n",
       "      <td>city scrape</td>\n",
       "      <td>Furnished suite, Windsor</td>\n",
       "      <td>Welcome to Area IV! We are located, convenient...</td>\n",
       "      <td>N/A</td>\n",
       "      <td>https://a0.muscache.com/pictures/188f1b4b-f37b...</td>\n",
       "      <td>74249</td>\n",
       "      <td>...</td>\n",
       "      <td>4.90</td>\n",
       "      <td>4.90</td>\n",
       "      <td>4.30</td>\n",
       "      <td>NaN</td>\n",
       "      <td>t</td>\n",
       "      <td>3</td>\n",
       "      <td>0</td>\n",
       "      <td>3</td>\n",
       "      <td>0</td>\n",
       "      <td>0.06</td>\n",
       "    </tr>\n",
       "    <tr>\n",
       "      <th>3</th>\n",
       "      <td>27498</td>\n",
       "      <td>https://www.airbnb.com/rooms/27498</td>\n",
       "      <td>20250625193454</td>\n",
       "      <td>2025-06-27</td>\n",
       "      <td>city scrape</td>\n",
       "      <td>Furnished suite 2 @ the Windsor</td>\n",
       "      <td>Welcome to Area IV! We are located, convenient...</td>\n",
       "      <td>N/A</td>\n",
       "      <td>https://a0.muscache.com/pictures/bab30c3c-ff3c...</td>\n",
       "      <td>74249</td>\n",
       "      <td>...</td>\n",
       "      <td>4.76</td>\n",
       "      <td>4.88</td>\n",
       "      <td>4.64</td>\n",
       "      <td>NaN</td>\n",
       "      <td>t</td>\n",
       "      <td>3</td>\n",
       "      <td>0</td>\n",
       "      <td>3</td>\n",
       "      <td>0</td>\n",
       "      <td>0.15</td>\n",
       "    </tr>\n",
       "    <tr>\n",
       "      <th>4</th>\n",
       "      <td>79762</td>\n",
       "      <td>https://www.airbnb.com/rooms/79762</td>\n",
       "      <td>20250625193454</td>\n",
       "      <td>2025-06-26</td>\n",
       "      <td>city scrape</td>\n",
       "      <td>Cambridge Getaway @ Harvard &amp; MIT</td>\n",
       "      <td>Charming 2-bedroom apartment on the third floo...</td>\n",
       "      <td>Annmarie and I have lived in this area for ove...</td>\n",
       "      <td>https://a0.muscache.com/pictures/airflow/Hosti...</td>\n",
       "      <td>430015</td>\n",
       "      <td>...</td>\n",
       "      <td>4.93</td>\n",
       "      <td>4.93</td>\n",
       "      <td>4.76</td>\n",
       "      <td>STR-15661</td>\n",
       "      <td>f</td>\n",
       "      <td>1</td>\n",
       "      <td>1</td>\n",
       "      <td>0</td>\n",
       "      <td>0</td>\n",
       "      <td>2.58</td>\n",
       "    </tr>\n",
       "    <tr>\n",
       "      <th>...</th>\n",
       "      <td>...</td>\n",
       "      <td>...</td>\n",
       "      <td>...</td>\n",
       "      <td>...</td>\n",
       "      <td>...</td>\n",
       "      <td>...</td>\n",
       "      <td>...</td>\n",
       "      <td>...</td>\n",
       "      <td>...</td>\n",
       "      <td>...</td>\n",
       "      <td>...</td>\n",
       "      <td>...</td>\n",
       "      <td>...</td>\n",
       "      <td>...</td>\n",
       "      <td>...</td>\n",
       "      <td>...</td>\n",
       "      <td>...</td>\n",
       "      <td>...</td>\n",
       "      <td>...</td>\n",
       "      <td>...</td>\n",
       "      <td>...</td>\n",
       "    </tr>\n",
       "    <tr>\n",
       "      <th>1370</th>\n",
       "      <td>1442190452341432060</td>\n",
       "      <td>https://www.airbnb.com/rooms/1442190452341432060</td>\n",
       "      <td>20250625193454</td>\n",
       "      <td>2025-06-26</td>\n",
       "      <td>city scrape</td>\n",
       "      <td>Cozy 2-Bed Apt Near MIT/Harvard + Parking</td>\n",
       "      <td>Our 2bd, 1ba is a 5 minute walk to Central Squ...</td>\n",
       "      <td>Located in the heart of central square. This i...</td>\n",
       "      <td>https://a0.muscache.com/pictures/hosting/Hosti...</td>\n",
       "      <td>73885693</td>\n",
       "      <td>...</td>\n",
       "      <td>5.00</td>\n",
       "      <td>5.00</td>\n",
       "      <td>5.00</td>\n",
       "      <td>NaN</td>\n",
       "      <td>f</td>\n",
       "      <td>2</td>\n",
       "      <td>2</td>\n",
       "      <td>0</td>\n",
       "      <td>0</td>\n",
       "      <td>2.00</td>\n",
       "    </tr>\n",
       "    <tr>\n",
       "      <th>1371</th>\n",
       "      <td>1443555192209357989</td>\n",
       "      <td>https://www.airbnb.com/rooms/1443555192209357989</td>\n",
       "      <td>20250625193454</td>\n",
       "      <td>2025-06-26</td>\n",
       "      <td>city scrape</td>\n",
       "      <td>Walk to Harvard &amp; MIT Y</td>\n",
       "      <td>PRIVATE ROOM &lt;br /&gt;Clean and comfortable room ...</td>\n",
       "      <td>N/A</td>\n",
       "      <td>https://a0.muscache.com/pictures/miso/Hosting-...</td>\n",
       "      <td>15154687</td>\n",
       "      <td>...</td>\n",
       "      <td>NaN</td>\n",
       "      <td>NaN</td>\n",
       "      <td>NaN</td>\n",
       "      <td>NaN</td>\n",
       "      <td>t</td>\n",
       "      <td>19</td>\n",
       "      <td>1</td>\n",
       "      <td>18</td>\n",
       "      <td>0</td>\n",
       "      <td>1.50</td>\n",
       "    </tr>\n",
       "    <tr>\n",
       "      <th>1372</th>\n",
       "      <td>1443585853586366833</td>\n",
       "      <td>https://www.airbnb.com/rooms/1443585853586366833</td>\n",
       "      <td>20250625193454</td>\n",
       "      <td>2025-06-26</td>\n",
       "      <td>city scrape</td>\n",
       "      <td>Walk to Harvard &amp; MIT XX</td>\n",
       "      <td>PRIVATE ROOM &lt;br /&gt;Clean and comfortable room ...</td>\n",
       "      <td>N/A</td>\n",
       "      <td>https://a0.muscache.com/pictures/miso/Hosting-...</td>\n",
       "      <td>15154687</td>\n",
       "      <td>...</td>\n",
       "      <td>NaN</td>\n",
       "      <td>NaN</td>\n",
       "      <td>NaN</td>\n",
       "      <td>NaN</td>\n",
       "      <td>t</td>\n",
       "      <td>19</td>\n",
       "      <td>1</td>\n",
       "      <td>18</td>\n",
       "      <td>0</td>\n",
       "      <td>1.50</td>\n",
       "    </tr>\n",
       "    <tr>\n",
       "      <th>1373</th>\n",
       "      <td>1447874951198409920</td>\n",
       "      <td>https://www.airbnb.com/rooms/1447874951198409920</td>\n",
       "      <td>20250625193454</td>\n",
       "      <td>2025-06-26</td>\n",
       "      <td>city scrape</td>\n",
       "      <td>Modern Apt In Kendall Square</td>\n",
       "      <td>Welcome to Proto Kendall Square Apartments, wh...</td>\n",
       "      <td>Kendall Square in Cambridge, Massachusetts, of...</td>\n",
       "      <td>https://a0.muscache.com/pictures/prohost-api/H...</td>\n",
       "      <td>20857768</td>\n",
       "      <td>...</td>\n",
       "      <td>NaN</td>\n",
       "      <td>NaN</td>\n",
       "      <td>NaN</td>\n",
       "      <td>NaN</td>\n",
       "      <td>t</td>\n",
       "      <td>7</td>\n",
       "      <td>7</td>\n",
       "      <td>0</td>\n",
       "      <td>0</td>\n",
       "      <td>1.50</td>\n",
       "    </tr>\n",
       "    <tr>\n",
       "      <th>1374</th>\n",
       "      <td>1447875564779712913</td>\n",
       "      <td>https://www.airbnb.com/rooms/1447875564779712913</td>\n",
       "      <td>20250625193454</td>\n",
       "      <td>2025-06-26</td>\n",
       "      <td>city scrape</td>\n",
       "      <td>Modern Apt with Gym</td>\n",
       "      <td>Welcome to Proto Kendall Square Apartments, wh...</td>\n",
       "      <td>Kendall Square in Cambridge, Massachusetts, of...</td>\n",
       "      <td>https://a0.muscache.com/pictures/prohost-api/H...</td>\n",
       "      <td>20857768</td>\n",
       "      <td>...</td>\n",
       "      <td>NaN</td>\n",
       "      <td>NaN</td>\n",
       "      <td>NaN</td>\n",
       "      <td>NaN</td>\n",
       "      <td>t</td>\n",
       "      <td>7</td>\n",
       "      <td>7</td>\n",
       "      <td>0</td>\n",
       "      <td>0</td>\n",
       "      <td>1.50</td>\n",
       "    </tr>\n",
       "  </tbody>\n",
       "</table>\n",
       "<p>1375 rows × 79 columns</p>\n",
       "</div>"
      ],
      "text/plain": [
       "                       id                                       listing_url  \\\n",
       "0                    8521                 https://www.airbnb.com/rooms/8521   \n",
       "1                   11169                https://www.airbnb.com/rooms/11169   \n",
       "2                   19581                https://www.airbnb.com/rooms/19581   \n",
       "3                   27498                https://www.airbnb.com/rooms/27498   \n",
       "4                   79762                https://www.airbnb.com/rooms/79762   \n",
       "...                   ...                                               ...   \n",
       "1370  1442190452341432060  https://www.airbnb.com/rooms/1442190452341432060   \n",
       "1371  1443555192209357989  https://www.airbnb.com/rooms/1443555192209357989   \n",
       "1372  1443585853586366833  https://www.airbnb.com/rooms/1443585853586366833   \n",
       "1373  1447874951198409920  https://www.airbnb.com/rooms/1447874951198409920   \n",
       "1374  1447875564779712913  https://www.airbnb.com/rooms/1447875564779712913   \n",
       "\n",
       "           scrape_id last_scraped       source  \\\n",
       "0     20250625193454   2025-06-26  city scrape   \n",
       "1     20250625193454   2025-06-27  city scrape   \n",
       "2     20250625193454   2025-06-26  city scrape   \n",
       "3     20250625193454   2025-06-27  city scrape   \n",
       "4     20250625193454   2025-06-26  city scrape   \n",
       "...              ...          ...          ...   \n",
       "1370  20250625193454   2025-06-26  city scrape   \n",
       "1371  20250625193454   2025-06-26  city scrape   \n",
       "1372  20250625193454   2025-06-26  city scrape   \n",
       "1373  20250625193454   2025-06-26  city scrape   \n",
       "1374  20250625193454   2025-06-26  city scrape   \n",
       "\n",
       "                                                  name  \\\n",
       "0     SunsplashedSerenity walk to Harvard & Fresh Pond   \n",
       "1        Lovely Studio Room: Available for long w/ends   \n",
       "2                             Furnished suite, Windsor   \n",
       "3                      Furnished suite 2 @ the Windsor   \n",
       "4                    Cambridge Getaway @ Harvard & MIT   \n",
       "...                                                ...   \n",
       "1370         Cozy 2-Bed Apt Near MIT/Harvard + Parking   \n",
       "1371                           Walk to Harvard & MIT Y   \n",
       "1372                          Walk to Harvard & MIT XX   \n",
       "1373                      Modern Apt In Kendall Square   \n",
       "1374                               Modern Apt with Gym   \n",
       "\n",
       "                                            description  \\\n",
       "0     An elegant, sun-splashed, 2 bedroom (+2offices...   \n",
       "1     Large sunny room w kitchenette & bath. Foam ma...   \n",
       "2     Welcome to Area IV! We are located, convenient...   \n",
       "3     Welcome to Area IV! We are located, convenient...   \n",
       "4     Charming 2-bedroom apartment on the third floo...   \n",
       "...                                                 ...   \n",
       "1370  Our 2bd, 1ba is a 5 minute walk to Central Squ...   \n",
       "1371  PRIVATE ROOM <br />Clean and comfortable room ...   \n",
       "1372  PRIVATE ROOM <br />Clean and comfortable room ...   \n",
       "1373  Welcome to Proto Kendall Square Apartments, wh...   \n",
       "1374  Welcome to Proto Kendall Square Apartments, wh...   \n",
       "\n",
       "                                  neighborhood_overview  \\\n",
       "0     Huron Village is known for its charm.  We have...   \n",
       "1     The neighborhood is quiet and friendly and our...   \n",
       "2                                                   N/A   \n",
       "3                                                   N/A   \n",
       "4     Annmarie and I have lived in this area for ove...   \n",
       "...                                                 ...   \n",
       "1370  Located in the heart of central square. This i...   \n",
       "1371                                                N/A   \n",
       "1372                                                N/A   \n",
       "1373  Kendall Square in Cambridge, Massachusetts, of...   \n",
       "1374  Kendall Square in Cambridge, Massachusetts, of...   \n",
       "\n",
       "                                            picture_url   host_id  ...  \\\n",
       "0     https://a0.muscache.com/pictures/30536/072e0a5...    306681  ...   \n",
       "1     https://a0.muscache.com/pictures/miso/Hosting-...     40965  ...   \n",
       "2     https://a0.muscache.com/pictures/188f1b4b-f37b...     74249  ...   \n",
       "3     https://a0.muscache.com/pictures/bab30c3c-ff3c...     74249  ...   \n",
       "4     https://a0.muscache.com/pictures/airflow/Hosti...    430015  ...   \n",
       "...                                                 ...       ...  ...   \n",
       "1370  https://a0.muscache.com/pictures/hosting/Hosti...  73885693  ...   \n",
       "1371  https://a0.muscache.com/pictures/miso/Hosting-...  15154687  ...   \n",
       "1372  https://a0.muscache.com/pictures/miso/Hosting-...  15154687  ...   \n",
       "1373  https://a0.muscache.com/pictures/prohost-api/H...  20857768  ...   \n",
       "1374  https://a0.muscache.com/pictures/prohost-api/H...  20857768  ...   \n",
       "\n",
       "     review_scores_communication review_scores_location review_scores_value  \\\n",
       "0                           4.92                   4.93                4.74   \n",
       "1                           4.92                   4.79                4.77   \n",
       "2                           4.90                   4.90                4.30   \n",
       "3                           4.76                   4.88                4.64   \n",
       "4                           4.93                   4.93                4.76   \n",
       "...                          ...                    ...                 ...   \n",
       "1370                        5.00                   5.00                5.00   \n",
       "1371                         NaN                    NaN                 NaN   \n",
       "1372                         NaN                    NaN                 NaN   \n",
       "1373                         NaN                    NaN                 NaN   \n",
       "1374                         NaN                    NaN                 NaN   \n",
       "\n",
       "          license instant_bookable calculated_host_listings_count  \\\n",
       "0     C0121120491                f                              2   \n",
       "1             NaN                f                              3   \n",
       "2             NaN                t                              3   \n",
       "3             NaN                t                              3   \n",
       "4       STR-15661                f                              1   \n",
       "...           ...              ...                            ...   \n",
       "1370          NaN                f                              2   \n",
       "1371          NaN                t                             19   \n",
       "1372          NaN                t                             19   \n",
       "1373          NaN                t                              7   \n",
       "1374          NaN                t                              7   \n",
       "\n",
       "     calculated_host_listings_count_entire_homes  \\\n",
       "0                                              2   \n",
       "1                                              1   \n",
       "2                                              0   \n",
       "3                                              0   \n",
       "4                                              1   \n",
       "...                                          ...   \n",
       "1370                                           2   \n",
       "1371                                           1   \n",
       "1372                                           1   \n",
       "1373                                           7   \n",
       "1374                                           7   \n",
       "\n",
       "     calculated_host_listings_count_private_rooms  \\\n",
       "0                                               0   \n",
       "1                                               2   \n",
       "2                                               3   \n",
       "3                                               3   \n",
       "4                                               0   \n",
       "...                                           ...   \n",
       "1370                                            0   \n",
       "1371                                           18   \n",
       "1372                                           18   \n",
       "1373                                            0   \n",
       "1374                                            0   \n",
       "\n",
       "     calculated_host_listings_count_shared_rooms reviews_per_month  \n",
       "0                                              0              0.41  \n",
       "1                                              0              1.02  \n",
       "2                                              0              0.06  \n",
       "3                                              0              0.15  \n",
       "4                                              0              2.58  \n",
       "...                                          ...               ...  \n",
       "1370                                           0              2.00  \n",
       "1371                                           0              1.50  \n",
       "1372                                           0              1.50  \n",
       "1373                                           0              1.50  \n",
       "1374                                           0              1.50  \n",
       "\n",
       "[1375 rows x 79 columns]"
      ]
     },
     "execution_count": 72,
     "metadata": {},
     "output_type": "execute_result"
    }
   ],
   "source": [
    "df2[\"price\"] = df2[\"price\"].replace('[\\$,]', '', regex=True)\n",
    "df2[\"price\"] = df2[\"price\"].astype(float)\n",
    "df2"
   ]
  },
  {
   "cell_type": "code",
   "execution_count": 73,
   "id": "95446f1d",
   "metadata": {},
   "outputs": [],
   "source": [
    "df2[\"price\"]=df2[\"price\"].fillna(round(df2[\"price\"].mean(),1))"
   ]
  },
  {
   "cell_type": "markdown",
   "id": "7a9d66cf",
   "metadata": {},
   "source": [
    "Rellenamos con \"t\" como valor por defecto ya que el excel solo tiene esa opción"
   ]
  },
  {
   "cell_type": "code",
   "execution_count": 74,
   "id": "d5a92b49",
   "metadata": {},
   "outputs": [],
   "source": [
    "df2[\"has_availability\"] =df2[\"has_availability\"].fillna(\"t\")\n"
   ]
  },
  {
   "cell_type": "markdown",
   "id": "6e4010e5",
   "metadata": {},
   "source": [
    "Se rellena con mediana para no afectar por valores extremos"
   ]
  },
  {
   "cell_type": "code",
   "execution_count": 75,
   "id": "d5f6c5c2",
   "metadata": {},
   "outputs": [],
   "source": [
    "df2[\"estimated_revenue_l365d\"]=df2[\"estimated_revenue_l365d\"].fillna(round(df[\"estimated_revenue_l365d\"].median(),1))\n"
   ]
  },
  {
   "cell_type": "markdown",
   "id": "f5bdd440",
   "metadata": {},
   "source": [
    "Se utiliza el backward y forward fill para mantener continuidad temporal"
   ]
  },
  {
   "cell_type": "code",
   "execution_count": 76,
   "id": "c1864ac5",
   "metadata": {},
   "outputs": [
    {
     "name": "stderr",
     "output_type": "stream",
     "text": [
      "/var/folders/rn/3d02syds5p99hnhh5p4p92jh0000gn/T/ipykernel_26839/226337311.py:1: FutureWarning: Series.fillna with 'method' is deprecated and will raise in a future version. Use obj.ffill() or obj.bfill() instead.\n",
      "  df2[\"first_review\"] =df2[\"first_review\"].fillna(method=\"bfill\")\n"
     ]
    }
   ],
   "source": [
    "df2[\"first_review\"] =df2[\"first_review\"].fillna(method=\"bfill\") "
   ]
  },
  {
   "cell_type": "code",
   "execution_count": 77,
   "id": "3fe7805e",
   "metadata": {},
   "outputs": [
    {
     "name": "stderr",
     "output_type": "stream",
     "text": [
      "/var/folders/rn/3d02syds5p99hnhh5p4p92jh0000gn/T/ipykernel_26839/1983289630.py:1: FutureWarning: Series.fillna with 'method' is deprecated and will raise in a future version. Use obj.ffill() or obj.bfill() instead.\n",
      "  df2[\"first_review\"] =df2[\"first_review\"].fillna(method=\"ffill\")\n"
     ]
    }
   ],
   "source": [
    "df2[\"first_review\"] =df2[\"first_review\"].fillna(method=\"ffill\") "
   ]
  },
  {
   "cell_type": "code",
   "execution_count": 78,
   "id": "a79b5608",
   "metadata": {},
   "outputs": [
    {
     "name": "stderr",
     "output_type": "stream",
     "text": [
      "/var/folders/rn/3d02syds5p99hnhh5p4p92jh0000gn/T/ipykernel_26839/3395681466.py:1: FutureWarning: Series.fillna with 'method' is deprecated and will raise in a future version. Use obj.ffill() or obj.bfill() instead.\n",
      "  df2[\"last_review\"] =df2[\"last_review\"].fillna(method=\"bfill\")\n"
     ]
    }
   ],
   "source": [
    "df2[\"last_review\"] =df2[\"last_review\"].fillna(method=\"bfill\") "
   ]
  },
  {
   "cell_type": "code",
   "execution_count": 79,
   "id": "732a8015",
   "metadata": {},
   "outputs": [
    {
     "name": "stderr",
     "output_type": "stream",
     "text": [
      "/var/folders/rn/3d02syds5p99hnhh5p4p92jh0000gn/T/ipykernel_26839/3777977187.py:1: FutureWarning: Series.fillna with 'method' is deprecated and will raise in a future version. Use obj.ffill() or obj.bfill() instead.\n",
      "  df2[\"last_review\"] =df2[\"last_review\"].fillna(method=\"ffill\")\n"
     ]
    }
   ],
   "source": [
    "df2[\"last_review\"] =df2[\"last_review\"].fillna(method=\"ffill\") "
   ]
  },
  {
   "cell_type": "markdown",
   "id": "eb337658",
   "metadata": {},
   "source": [
    "Se rellena con 0, ya que es numérico y no tiene información faltante real"
   ]
  },
  {
   "cell_type": "code",
   "execution_count": 80,
   "id": "fcdaf7e0",
   "metadata": {},
   "outputs": [],
   "source": [
    "df2[\"license\"]= df2[\"license\"].fillna(0) "
   ]
  },
  {
   "cell_type": "markdown",
   "id": "7082ae59",
   "metadata": {},
   "source": [
    "Estas columnas tienen todos nulos 1375 registros sin datos, por lo que no aportan variables"
   ]
  },
  {
   "cell_type": "code",
   "execution_count": 81,
   "id": "c1660cb6",
   "metadata": {},
   "outputs": [],
   "source": [
    "df2 = df2.drop(columns=[\"neighbourhood_group_cleansed\", \"calendar_updated\"])"
   ]
  },
  {
   "cell_type": "markdown",
   "id": "df4118ff",
   "metadata": {},
   "source": [
    "Solo hay 1 fila con nulos, por lo que eliminarla no afecta el dataset."
   ]
  },
  {
   "cell_type": "code",
   "execution_count": 82,
   "id": "bd1625f9",
   "metadata": {},
   "outputs": [],
   "source": [
    "df2 = df2.dropna(subset=[\"minimum_minimum_nights\", \"maximum_minimum_nights\", \"minimum_maximum_nights\", \"maximum_maximum_nights\"])\n"
   ]
  },
  {
   "cell_type": "markdown",
   "id": "068a035a",
   "metadata": {},
   "source": [
    "Rellenar los nulos con la media permite mantener el valor general de la columna sin sesgar los datos con valores extremos."
   ]
  },
  {
   "cell_type": "code",
   "execution_count": 83,
   "id": "4022cf00",
   "metadata": {},
   "outputs": [],
   "source": [
    "review_cols = [\"review_scores_rating\", \"review_scores_accuracy\", \"review_scores_cleanliness\", \"review_scores_checkin\", \"review_scores_communication\", \"review_scores_location\", \"review_scores_value\"]\n",
    "for col in review_cols:\n",
    "    df2[col] = df2[col].fillna(round(df2[col].mean(),1))\n"
   ]
  },
  {
   "cell_type": "markdown",
   "id": "5759baa2",
   "metadata": {},
   "source": [
    "Solo hay 39 filas con nulos, lo que representa una pequeña parte del dataset al igual que no se puede rellenar de manera confiable (no tiene sentido inventar nombres, fechas o fotos)."
   ]
  },
  {
   "cell_type": "code",
   "execution_count": 84,
   "id": "24a1590e",
   "metadata": {},
   "outputs": [],
   "source": [
    "host_cols = [\"host_name\", \"host_since\", \"host_thumbnail_url\", \"host_picture_url\", \"host_has_profile_pic\", \"host_identity_verified\"]\n",
    "df2 = df2.dropna(subset=host_cols)\n"
   ]
  },
  {
   "cell_type": "code",
   "execution_count": 85,
   "id": "a59b8ceb",
   "metadata": {},
   "outputs": [
    {
     "data": {
      "text/plain": [
       "Series([], dtype: int64)"
      ]
     },
     "execution_count": 85,
     "metadata": {},
     "output_type": "execute_result"
    }
   ],
   "source": [
    "df2.isnull().sum()[df2.isnull().sum() > 0]\n"
   ]
  },
  {
   "cell_type": "code",
   "execution_count": 86,
   "id": "fc13f6c2",
   "metadata": {},
   "outputs": [],
   "source": [
    "df2.to_csv(\"listings_limpio.csv\")"
   ]
  }
 ],
 "metadata": {
  "kernelspec": {
   "display_name": "Analitica",
   "language": "python",
   "name": "python3"
  },
  "language_info": {
   "codemirror_mode": {
    "name": "ipython",
    "version": 3
   },
   "file_extension": ".py",
   "mimetype": "text/x-python",
   "name": "python",
   "nbconvert_exporter": "python",
   "pygments_lexer": "ipython3",
   "version": "3.12.11"
  }
 },
 "nbformat": 4,
 "nbformat_minor": 5
}
